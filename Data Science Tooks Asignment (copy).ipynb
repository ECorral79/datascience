{
  "metadata": {
    "kernelspec": {
      "name": "python",
      "display_name": "Python (Pyodide)",
      "language": "python"
    },
    "language_info": {
      "codemirror_mode": {
        "name": "python",
        "version": 3
      },
      "file_extension": ".py",
      "mimetype": "text/x-python",
      "name": "python",
      "nbconvert_exporter": "python",
      "pygments_lexer": "ipython3",
      "version": "3.8"
    }
  },
  "nbformat_minor": 4,
  "nbformat": 4,
  "cells": [
    {
      "cell_type": "markdown",
      "source": "#  Data Science Toold and Eco system",
      "metadata": {}
    },
    {
      "cell_type": "markdown",
      "source": "In this course you will learn about the rquired tool that are normally useed in a project ofe aSata Scientist:\nThe language,: depending on the usage and the objective pf the project ther are different options of language like Python,R, SQL, Among others\nThe APIps and Models: the information or data source might be internal or external that might require an API for the permision \nR Studio and IDEs: R Studio is the main enviroment for data analysis and vizualisations, and learning wht are the IDEs. to simplify the usage of different languages with the same enviroment.\n\nAnd finally evaluate the knowledgae through the aplication  and questionaire.",
      "metadata": {}
    },
    {
      "cell_type": "markdown",
      "source": "# Data Science Basic Languages\nPython\n\nR\n\nSQL\n\n",
      "metadata": {
        "jp-MarkdownHeadingCollapsed": true
      }
    },
    {
      "cell_type": "markdown",
      "source": "# Data Science Basic Libraries\n\nPanda\n\nMatplotlib\n\nNumpy\n",
      "metadata": {}
    },
    {
      "cell_type": "code",
      "source": "import pandas as pd\n\n# Create a DataFrame with the specified data\ndata = {\n    \"Data Science Tools\": [\n        \"Jupyter Notebook\",\n        \"RStudio\",\n        \"Apache Zeppelin\"\n    ]\n}\n\n# Create DataFrame\ndf = pd.DataFrame(data)\n\n# Display the DataFrame\nprint(df)",
      "metadata": {
        "jp-MarkdownHeadingCollapsed": true,
        "trusted": true,
        "scrolled": true
      },
      "outputs": [
        {
          "name": "stderr",
          "text": "<ipython-input-1-df30d337dba1>:1: DeprecationWarning: \nPyarrow will become a required dependency of pandas in the next major release of pandas (pandas 3.0),\n(to allow more performant data types, such as the Arrow string type, and better interoperability with other libraries)\nbut was not found to be installed on your system.\nIf this would cause problems for you,\nplease provide us feedback at https://github.com/pandas-dev/pandas/issues/54466\n        \n  import pandas as pd\n",
          "output_type": "stream"
        },
        {
          "name": "stdout",
          "text": "  Data Science Tools\n0   Jupyter Notebook\n1            RStudio\n2    Apache Zeppelin\n",
          "output_type": "stream"
        }
      ],
      "execution_count": 1
    },
    {
      "cell_type": "markdown",
      "source": "### Below are a few examples of evaluating arithmetic expressions in Python.",
      "metadata": {}
    },
    {
      "cell_type": "code",
      "source": "x= 10+50\ny= 150+25-50\n\nprint(x)\nprint(y)\n      ",
      "metadata": {
        "trusted": true
      },
      "outputs": [
        {
          "name": "stdout",
          "text": "60\n125\n",
          "output_type": "stream"
        }
      ],
      "execution_count": 7
    },
    {
      "cell_type": "code",
      "source": "#This a simple arithmetic expression to mutiply then add integers\n\na= (3*4)+5\n\nprint(a)",
      "metadata": {
        "trusted": true
      },
      "outputs": [
        {
          "name": "stdout",
          "text": "17\n",
          "output_type": "stream"
        }
      ],
      "execution_count": 4
    },
    {
      "cell_type": "code",
      "source": "# 1hour= 60minutes\n\nminutes=200\n\n#This will convert minutes into hours\n\nhours= minutes/60\n\nprint(hours)",
      "metadata": {
        "trusted": true
      },
      "outputs": [
        {
          "name": "stdout",
          "text": "3.3333333333333335\n",
          "output_type": "stream"
        }
      ],
      "execution_count": 6
    },
    {
      "cell_type": "markdown",
      "source": "# Objectives\n1. Introduction to Data Science Tools\n2. Uderstanding qhat is a Data Science or Programming Language\n3. Learning about APIs and Data Models about the storage and processing of Data\n4. learning the basics of Jupytrt Lab as a development enviroment\n5.  The usage of R Studio for Mathematica an stadistics, and using Github forshare projects getting ideas and improvement",
      "metadata": {}
    },
    {
      "cell_type": "markdown",
      "source": "## Author\n\n Erick Corral",
      "metadata": {}
    }
  ]
}